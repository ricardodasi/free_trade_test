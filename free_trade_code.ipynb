{
 "cells": [
  {
   "cell_type": "code",
   "execution_count": 1,
   "metadata": {},
   "outputs": [],
   "source": [
    "\n",
    "import psycopg2\n",
    "\n",
    "\n",
    "connection =psycopg2.connect(host=\"localhost\",database=\"freetrade\", user=\"postgres\", password=\"Ricardo24\")\n",
    "\n",
    "cursor = connection.cursor()\n",
    "\n",
    "\n"
   ]
  },
  {
   "cell_type": "code",
   "execution_count": null,
   "metadata": {},
   "outputs": [],
   "source": [
    "\n",
    "#creating table for users\n",
    "create_table = '''\n",
    "                CREATE TABLE users(\n",
    "                client_id INT primary key NOT NULL,\n",
    "                active_account TEXT NOT NULL,\n",
    "                client_status TEXT NOT NULL\n",
    "                )\n",
    "                '''\n",
    "\n",
    "\n",
    "cursor.execute(create_table)\n",
    "\n",
    "connection.commit()\n",
    "\n",
    "\n"
   ]
  },
  {
   "cell_type": "code",
   "execution_count": null,
   "metadata": {},
   "outputs": [],
   "source": [
    "#Creating table for orders\n",
    "\n",
    "\n",
    "create_table_for_orders = '''\n",
    "                CREATE TABLE orders(\n",
    "                account_id INT primary key NOT NULL,\n",
    "                average_price INT,\n",
    "                client_status TEXT,\n",
    "                creation_time  DATE,\n",
    "                quantity INT ,\n",
    "                currency INT ,\n",
    "                instrument_id TEXT,\n",
    "                side TEXT,\n",
    "                status TEXT,\n",
    "                type TEXT\n",
    "                )\n",
    "                '''\n",
    "\n",
    "\n",
    "cursor.execute(create_table_for_orders)\n",
    "\n",
    "connection.commit()\n",
    "\n",
    "\n",
    "\n"
   ]
  },
  {
   "cell_type": "code",
   "execution_count": 2,
   "metadata": {},
   "outputs": [],
   "source": [
    "#loading users\n",
    "client_ids = [1,2,3]\n",
    "active_accounts = ['active','inactive','active']\n",
    "client_statuses = ['live','live','not live']\n",
    "\n",
    "\n",
    "load_data = '''\n",
    "            INSERT INTO users(client_id,active_account,client_status)\n",
    "            VALUES(3,'INACTIVE','NOT LIVE')\n",
    "            '''\n",
    "\n",
    "\n",
    "cursor.execute(load_data)\n",
    "\n",
    "connection.commit()\n",
    "    \n",
    "\n"
   ]
  },
  {
   "cell_type": "code",
   "execution_count": 7,
   "metadata": {},
   "outputs": [],
   "source": [
    "#loading orders\n",
    "\n",
    "\n",
    "connection =psycopg2.connect(host=\"localhost\",database=\"freetrade\", user=\"postgres\", password=\"Ricardo24\")\n",
    "\n",
    "cursor = connection.cursor()\n",
    "\n",
    "\n",
    "load_data_orders = '''\n",
    "            INSERT INTO orders(account_id,average_price,client_status,creation_time,quantity,currency,instrument_id,side,status,\n",
    "                              type )\n",
    "            VALUES({},1000,'live','10/01/2010',10,5,'TSLA','BUY','PENDING','INSTANT')\n",
    "            '''\n",
    "\n",
    "\n",
    "for i in range(2,10):\n",
    "    cursor.execute(load_data_orders.format(i))\n",
    "    connection.commit()\n",
    "\n",
    "\n",
    "\n"
   ]
  },
  {
   "cell_type": "code",
   "execution_count": null,
   "metadata": {},
   "outputs": [],
   "source": [
    "\n",
    "\n",
    "\n",
    "\n",
    "\n",
    "\n",
    "\n"
   ]
  }
 ],
 "metadata": {
  "kernelspec": {
   "display_name": "Python 3",
   "language": "python",
   "name": "python3"
  },
  "language_info": {
   "codemirror_mode": {
    "name": "ipython",
    "version": 3
   },
   "file_extension": ".py",
   "mimetype": "text/x-python",
   "name": "python",
   "nbconvert_exporter": "python",
   "pygments_lexer": "ipython3",
   "version": "3.7.0"
  }
 },
 "nbformat": 4,
 "nbformat_minor": 2
}
